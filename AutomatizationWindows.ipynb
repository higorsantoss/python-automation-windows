{
 "cells": [
  {
   "cell_type": "markdown",
   "metadata": {},
   "source": [
    "Automation Windows, Open Microsoft Edge and download a txt file"
   ]
  },
  {
   "cell_type": "code",
   "execution_count": null,
   "metadata": {},
   "outputs": [],
   "source": [
    "import pyperclip\n",
    "import time\n",
    "import pyautogui\n",
    "import shutil\n",
    "import os\n",
    "import logging\n",
    "import logging\n",
    "\n",
    "from os.path import exists, abspath\n",
    "from pathlib import Path\n",
    "\n",
    "def set_up_log(root_name: str) -> None: \n",
    "    logging.root = logging.getLogger(root_name)\n",
    "    logging.basicConfig(level = logging.INFO)\n",
    "\n",
    "\n",
    "#If we want show a log in display\n",
    "set_up_log('AutomatizationWindows')\n",
    "\n",
    "# Wait 1 second between each command pyautogui\n",
    "pyautogui.PAUSE = 1  \n",
    "\n",
    "# Open browser Windows https://file-examples.com/index.php/sample-documents-download/sample-xls-download/\n",
    "\n",
    "pyautogui.hotkey('win')\n",
    "pyautogui.write('edge')\n",
    "pyautogui.press('enter')\n",
    "\n",
    "pyperclip.copy('https://filesamples.com/formats/txt')\n",
    "pyautogui.hotkey('ctrl', 'v')\n",
    "pyautogui.press('enter')\n",
    "\n",
    "# Wait 5 seconds until get position x and y of mouse after that you can decrease the time to 2 seconds\n",
    "time.sleep(3)\n",
    "\n",
    "# print a position of mouse after time.sleep(3)\n",
    "#pyautogui.position()\n",
    "\n",
    "# if you want 2 or mores clicks add the parameter clicks=2\n",
    "pyautogui.click(x=3746, y=607, clicks=1) "
   ]
  },
  {
   "cell_type": "code",
   "execution_count": null,
   "metadata": {},
   "outputs": [],
   "source": [
    "# Get path or directory windows \n",
    "downloads_path = str(Path.home() / \"Downloads\")\n",
    "downloads_path += \"\\\\\"\n",
    "\n",
    "# Get classpath of project \n",
    "project_root_dir = abspath(os.curdir)\n",
    "\n",
    "file = \"sample3.txt\"\n",
    "file_complet = downloads_path + file\n",
    "\n",
    "# Verify if the file exists in the directory\n",
    "file_exists_downloads = exists(file_complet)\n",
    "file_exists_project_root = exists(project_root_dir+ \"\\\\\" + file)\n",
    "\n",
    "if(file_exists_project_root):\n",
    "    logging.info('file already copied to the project directory')  \n",
    "elif(file_exists_downloads):\n",
    "    # Copy file to another directory\n",
    "    shutil.copy(file_complet, project_root_dir)\n",
    "    logging.info('File copied successfully')  \n",
    "else:\n",
    "    logging.error('Could not copy the file. File not found.')"
   ]
  }
 ],
 "metadata": {
  "interpreter": {
   "hash": "242d2d4f8304d7355b62d3762c175d990295e91382c1341641a2640be48d4b99"
  },
  "kernelspec": {
   "display_name": "Python 3.9.7 ('estudo')",
   "language": "python",
   "name": "python3"
  },
  "language_info": {
   "codemirror_mode": {
    "name": "ipython",
    "version": 3
   },
   "file_extension": ".py",
   "mimetype": "text/x-python",
   "name": "python",
   "nbconvert_exporter": "python",
   "pygments_lexer": "ipython3",
   "version": "3.9.7"
  },
  "orig_nbformat": 4
 },
 "nbformat": 4,
 "nbformat_minor": 2
}
